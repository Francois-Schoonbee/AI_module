{
 "cells": [
  {
   "cell_type": "markdown",
   "id": "reduced-trial",
   "metadata": {},
   "source": [
    "# Data preparation with sklearn\n",
    "\n",
    "In this notebook, we will work with three different datasets to practice to prepare them for training a machine learning model.\n",
    "\n",
    "Remember the main steps for doing that are:\n",
    "\n",
    "1. Outlier removal\n",
    "2. Missing values filling\n",
    "3. Data normalization\n",
    "4. Dealing with categorical variables"
   ]
  },
  {
   "cell_type": "markdown",
   "id": "authentic-highway",
   "metadata": {},
   "source": [
    "### Exercise 1\n",
    "\n",
    "Let's assume we have a small database of flu patients. We want to make a model to predict the need of hospitalization given the characteristics of the patients. However, before we need to pre-process a little bit the data.\n",
    "\n",
    "We have the following attributes:\n",
    "\n",
    "* Age: stored in years\n",
    "* Gender: Male / Female \n",
    "* Health status: Excelent / good / poor \n",
    "* Disease symptoms: in a scale from 0 to 10 where 0 is asymptomatic \n",
    "* Hospitalization need: 0 don't need hospitalization; 1 if they need it\n",
    "    \n",
    "The data is stored in lists. We provide here an example with 5 patients:"
   ]
  },
  {
   "cell_type": "code",
   "execution_count": 46,
   "id": "legendary-venture",
   "metadata": {},
   "outputs": [],
   "source": [
    "import pandas as pd\n",
    "from sklearn import set_config\n",
    "\n",
    "set_config(transform_output=\"pandas\")\n",
    "\n",
    "age = [70, 60, 35, None, 86]  # None is used to denote a missing value in Python\n",
    "gender = [\"Male\", \"Female\", \"Male\", \"Male\", \"Female\"]  \n",
    "health_status = [\"Excellent\", \"Poor\", \"Poor\", \"Excellent\", \"Good\"]  \n",
    "disease_symptoms = [0, 7, 5, 8, 9]  \n",
    "hospitalization = [0, 1, 1, 0, 0] "
   ]
  },
  {
   "cell_type": "markdown",
   "id": "peaceful-daisy",
   "metadata": {},
   "source": [
    "<div class=\"alert alert-info\"><b>Exercise 1.1</b> \n",
    "\n",
    "Create a dataframe called ```df``` that contains the provided data.\n",
    "</div>"
   ]
  },
  {
   "cell_type": "code",
   "execution_count": 47,
   "id": "sonic-kidney",
   "metadata": {},
   "outputs": [
    {
     "data": {
      "text/html": [
       "<div>\n",
       "<style scoped>\n",
       "    .dataframe tbody tr th:only-of-type {\n",
       "        vertical-align: middle;\n",
       "    }\n",
       "\n",
       "    .dataframe tbody tr th {\n",
       "        vertical-align: top;\n",
       "    }\n",
       "\n",
       "    .dataframe thead th {\n",
       "        text-align: right;\n",
       "    }\n",
       "</style>\n",
       "<table border=\"1\" class=\"dataframe\">\n",
       "  <thead>\n",
       "    <tr style=\"text-align: right;\">\n",
       "      <th></th>\n",
       "      <th>age</th>\n",
       "      <th>gender</th>\n",
       "      <th>health_status</th>\n",
       "      <th>disease_symptoms</th>\n",
       "      <th>hospitalization</th>\n",
       "    </tr>\n",
       "  </thead>\n",
       "  <tbody>\n",
       "    <tr>\n",
       "      <th>0</th>\n",
       "      <td>70.0</td>\n",
       "      <td>Male</td>\n",
       "      <td>Excellent</td>\n",
       "      <td>0</td>\n",
       "      <td>0</td>\n",
       "    </tr>\n",
       "    <tr>\n",
       "      <th>1</th>\n",
       "      <td>60.0</td>\n",
       "      <td>Female</td>\n",
       "      <td>Poor</td>\n",
       "      <td>7</td>\n",
       "      <td>1</td>\n",
       "    </tr>\n",
       "    <tr>\n",
       "      <th>2</th>\n",
       "      <td>35.0</td>\n",
       "      <td>Male</td>\n",
       "      <td>Poor</td>\n",
       "      <td>5</td>\n",
       "      <td>1</td>\n",
       "    </tr>\n",
       "    <tr>\n",
       "      <th>3</th>\n",
       "      <td>NaN</td>\n",
       "      <td>Male</td>\n",
       "      <td>Excellent</td>\n",
       "      <td>8</td>\n",
       "      <td>0</td>\n",
       "    </tr>\n",
       "    <tr>\n",
       "      <th>4</th>\n",
       "      <td>86.0</td>\n",
       "      <td>Female</td>\n",
       "      <td>Good</td>\n",
       "      <td>9</td>\n",
       "      <td>0</td>\n",
       "    </tr>\n",
       "  </tbody>\n",
       "</table>\n",
       "</div>"
      ],
      "text/plain": [
       "    age  gender health_status  disease_symptoms  hospitalization\n",
       "0  70.0    Male     Excellent                 0                0\n",
       "1  60.0  Female          Poor                 7                1\n",
       "2  35.0    Male          Poor                 5                1\n",
       "3   NaN    Male     Excellent                 8                0\n",
       "4  86.0  Female          Good                 9                0"
      ]
     },
     "execution_count": 47,
     "metadata": {},
     "output_type": "execute_result"
    }
   ],
   "source": [
    "df = pd.DataFrame(data = {\"age\": age, \"gender\": gender, \"health_status\": health_status, \n",
    "                          \"disease_symptoms\": disease_symptoms, \"hospitalization\": hospitalization })\n",
    "df"
   ]
  },
  {
   "cell_type": "markdown",
   "id": "suburban-picnic",
   "metadata": {},
   "source": [
    "<div class=\"alert alert-info\"><b>Exercise 1.2</b> \n",
    "\n",
    "Extract the features matrix and target array from the original DataFrame and store them in two new variables ```X``` and ```y```. Use column ```hospitalization``` as depedent variable.</div>"
   ]
  },
  {
   "cell_type": "code",
   "execution_count": 48,
   "id": "095c4e2b",
   "metadata": {},
   "outputs": [
    {
     "name": "stdout",
     "output_type": "stream",
     "text": [
      "    age  gender health_status  disease_symptoms\n",
      "0  70.0    Male     Excellent                 0\n",
      "1  60.0  Female          Poor                 7\n",
      "2  35.0    Male          Poor                 5\n",
      "3   NaN    Male     Excellent                 8\n",
      "4  86.0  Female          Good                 9\n",
      "0    0\n",
      "1    1\n",
      "2    1\n",
      "3    0\n",
      "4    0\n",
      "Name: hospitalization, dtype: int64\n"
     ]
    }
   ],
   "source": [
    "X = df.drop(columns=['hospitalization'])\n",
    "y = df['hospitalization']\n",
    "print(X)\n",
    "print(y)"
   ]
  },
  {
   "cell_type": "markdown",
   "id": "271403ae",
   "metadata": {},
   "source": [
    "<div class=\"alert alert-info\"><b>Exercise 1.3</b> \n",
    "\n",
    "Fill the missing values for the ```age``` column with the mean of that column"
   ]
  },
  {
   "cell_type": "code",
   "execution_count": 49,
   "id": "baking-drunk",
   "metadata": {},
   "outputs": [
    {
     "name": "stdout",
     "output_type": "stream",
     "text": [
      "     age\n",
      "0  70.00\n",
      "1  60.00\n",
      "2  35.00\n",
      "3  62.75\n",
      "4  86.00\n"
     ]
    },
    {
     "data": {
      "text/html": [
       "<div>\n",
       "<style scoped>\n",
       "    .dataframe tbody tr th:only-of-type {\n",
       "        vertical-align: middle;\n",
       "    }\n",
       "\n",
       "    .dataframe tbody tr th {\n",
       "        vertical-align: top;\n",
       "    }\n",
       "\n",
       "    .dataframe thead th {\n",
       "        text-align: right;\n",
       "    }\n",
       "</style>\n",
       "<table border=\"1\" class=\"dataframe\">\n",
       "  <thead>\n",
       "    <tr style=\"text-align: right;\">\n",
       "      <th></th>\n",
       "      <th>age</th>\n",
       "      <th>gender</th>\n",
       "      <th>health_status</th>\n",
       "      <th>disease_symptoms</th>\n",
       "    </tr>\n",
       "  </thead>\n",
       "  <tbody>\n",
       "    <tr>\n",
       "      <th>0</th>\n",
       "      <td>70.00</td>\n",
       "      <td>Male</td>\n",
       "      <td>Excellent</td>\n",
       "      <td>0</td>\n",
       "    </tr>\n",
       "    <tr>\n",
       "      <th>1</th>\n",
       "      <td>60.00</td>\n",
       "      <td>Female</td>\n",
       "      <td>Poor</td>\n",
       "      <td>7</td>\n",
       "    </tr>\n",
       "    <tr>\n",
       "      <th>2</th>\n",
       "      <td>35.00</td>\n",
       "      <td>Male</td>\n",
       "      <td>Poor</td>\n",
       "      <td>5</td>\n",
       "    </tr>\n",
       "    <tr>\n",
       "      <th>3</th>\n",
       "      <td>62.75</td>\n",
       "      <td>Male</td>\n",
       "      <td>Excellent</td>\n",
       "      <td>8</td>\n",
       "    </tr>\n",
       "    <tr>\n",
       "      <th>4</th>\n",
       "      <td>86.00</td>\n",
       "      <td>Female</td>\n",
       "      <td>Good</td>\n",
       "      <td>9</td>\n",
       "    </tr>\n",
       "  </tbody>\n",
       "</table>\n",
       "</div>"
      ],
      "text/plain": [
       "     age  gender health_status  disease_symptoms\n",
       "0  70.00    Male     Excellent                 0\n",
       "1  60.00  Female          Poor                 7\n",
       "2  35.00    Male          Poor                 5\n",
       "3  62.75    Male     Excellent                 8\n",
       "4  86.00  Female          Good                 9"
      ]
     },
     "execution_count": 49,
     "metadata": {},
     "output_type": "execute_result"
    }
   ],
   "source": [
    "from sklearn.impute import SimpleImputer\n",
    "mean_imp = SimpleImputer(strategy='mean')\n",
    "X_imp = mean_imp.fit_transform(pd.DataFrame(X['age']))\n",
    "print(X_imp)\n",
    "X['age']=X_imp\n",
    "X"
   ]
  },
  {
   "cell_type": "markdown",
   "id": "handled-bulgarian",
   "metadata": {},
   "source": [
    "<div class=\"alert alert-info\"><b>Exercise 1.4</b> \n",
    "\n",
    "Use the sklearn library to create a one-hot encoder for the ```gender``` attribute that results in the adding of two new columns, ```female``` and ```male```, to your dataframe. Remember to remove the original attribute.\n",
    "</div>"
   ]
  },
  {
   "cell_type": "code",
   "execution_count": 50,
   "id": "certified-chinese",
   "metadata": {},
   "outputs": [
    {
     "name": "stdout",
     "output_type": "stream",
     "text": [
      "     age health_status  disease_symptoms  female  male\n",
      "0  70.00     Excellent                 0     0.0   1.0\n",
      "1  60.00          Poor                 7     1.0   0.0\n",
      "2  35.00          Poor                 5     0.0   1.0\n",
      "3  62.75     Excellent                 8     0.0   1.0\n",
      "4  86.00          Good                 9     1.0   0.0\n"
     ]
    }
   ],
   "source": [
    "from sklearn.preprocessing import OneHotEncoder\n",
    "onehot_encoder = OneHotEncoder(sparse_output=False)\n",
    "onehot_values = onehot_encoder.fit_transform(X[['gender']])\n",
    "X['female'] = onehot_values['gender_Female']\n",
    "X['male'] = onehot_values['gender_Male']\n",
    "X = X.drop(columns= ['gender'])\n",
    "print(X)"
   ]
  },
  {
   "cell_type": "markdown",
   "id": "c4395e53",
   "metadata": {},
   "source": [
    "Now, you encoded the ```gender``` attribute, you get three different columns containing the encoded values. Add them in the dataframe ```X``` with the appropriate names.\n",
    "\n",
    "<div class=\"alert alert-warning\">\n",
    "Hint 1:  Encoded columns are in lexicographical order.\n",
    "</div>\n",
    "<div class=\"alert alert-warning\">\n",
    "    \n",
    "Hint 2:  Remember to drop the non-encoded attribute from ```X```.\n",
    "</div>"
   ]
  },
  {
   "cell_type": "code",
   "execution_count": null,
   "id": "understood-communication",
   "metadata": {},
   "outputs": [],
   "source": []
  },
  {
   "cell_type": "markdown",
   "id": "toxic-nitrogen",
   "metadata": {},
   "source": [
    "<div class=\"alert alert-info\"><b>Exercise 1.5</b> \n",
    "\n",
    "Use the sklearn library to create an integer encoder for the ```health_status``` attribute. Store the new variable in a column called ```health_status_ENC``` and remove the original column.</div>"
   ]
  },
  {
   "cell_type": "code",
   "execution_count": 51,
   "id": "floating-daisy",
   "metadata": {},
   "outputs": [
    {
     "data": {
      "text/html": [
       "<div>\n",
       "<style scoped>\n",
       "    .dataframe tbody tr th:only-of-type {\n",
       "        vertical-align: middle;\n",
       "    }\n",
       "\n",
       "    .dataframe tbody tr th {\n",
       "        vertical-align: top;\n",
       "    }\n",
       "\n",
       "    .dataframe thead th {\n",
       "        text-align: right;\n",
       "    }\n",
       "</style>\n",
       "<table border=\"1\" class=\"dataframe\">\n",
       "  <thead>\n",
       "    <tr style=\"text-align: right;\">\n",
       "      <th></th>\n",
       "      <th>age</th>\n",
       "      <th>health_status</th>\n",
       "      <th>disease_symptoms</th>\n",
       "      <th>female</th>\n",
       "      <th>male</th>\n",
       "      <th>health_status_ENC</th>\n",
       "    </tr>\n",
       "  </thead>\n",
       "  <tbody>\n",
       "    <tr>\n",
       "      <th>0</th>\n",
       "      <td>70.00</td>\n",
       "      <td>Excellent</td>\n",
       "      <td>0</td>\n",
       "      <td>0.0</td>\n",
       "      <td>1.0</td>\n",
       "      <td>0.0</td>\n",
       "    </tr>\n",
       "    <tr>\n",
       "      <th>1</th>\n",
       "      <td>60.00</td>\n",
       "      <td>Poor</td>\n",
       "      <td>7</td>\n",
       "      <td>1.0</td>\n",
       "      <td>0.0</td>\n",
       "      <td>2.0</td>\n",
       "    </tr>\n",
       "    <tr>\n",
       "      <th>2</th>\n",
       "      <td>35.00</td>\n",
       "      <td>Poor</td>\n",
       "      <td>5</td>\n",
       "      <td>0.0</td>\n",
       "      <td>1.0</td>\n",
       "      <td>2.0</td>\n",
       "    </tr>\n",
       "    <tr>\n",
       "      <th>3</th>\n",
       "      <td>62.75</td>\n",
       "      <td>Excellent</td>\n",
       "      <td>8</td>\n",
       "      <td>0.0</td>\n",
       "      <td>1.0</td>\n",
       "      <td>0.0</td>\n",
       "    </tr>\n",
       "    <tr>\n",
       "      <th>4</th>\n",
       "      <td>86.00</td>\n",
       "      <td>Good</td>\n",
       "      <td>9</td>\n",
       "      <td>1.0</td>\n",
       "      <td>0.0</td>\n",
       "      <td>1.0</td>\n",
       "    </tr>\n",
       "  </tbody>\n",
       "</table>\n",
       "</div>"
      ],
      "text/plain": [
       "     age health_status  disease_symptoms  female  male  health_status_ENC\n",
       "0  70.00     Excellent                 0     0.0   1.0                0.0\n",
       "1  60.00          Poor                 7     1.0   0.0                2.0\n",
       "2  35.00          Poor                 5     0.0   1.0                2.0\n",
       "3  62.75     Excellent                 8     0.0   1.0                0.0\n",
       "4  86.00          Good                 9     1.0   0.0                1.0"
      ]
     },
     "execution_count": 51,
     "metadata": {},
     "output_type": "execute_result"
    }
   ],
   "source": [
    "from sklearn.preprocessing import OrdinalEncoder\n",
    "categories = [['Excellent', 'Good', 'Poor']]\n",
    "ordinal_encoder = OrdinalEncoder(categories=categories)\n",
    "X['health_status_ENC'] = ordinal_encoder.fit_transform(X[['health_status']])\n",
    "X"
   ]
  },
  {
   "cell_type": "markdown",
   "id": "6b0c41c2",
   "metadata": {},
   "source": [
    "<div class=\"alert alert-warning\">\n",
    "    \n",
    "Hint:  Remember to drop the non-encoded attribute from ```X```.\n",
    "</div>"
   ]
  },
  {
   "cell_type": "code",
   "execution_count": 52,
   "id": "billion-treasurer",
   "metadata": {},
   "outputs": [
    {
     "data": {
      "text/html": [
       "<div>\n",
       "<style scoped>\n",
       "    .dataframe tbody tr th:only-of-type {\n",
       "        vertical-align: middle;\n",
       "    }\n",
       "\n",
       "    .dataframe tbody tr th {\n",
       "        vertical-align: top;\n",
       "    }\n",
       "\n",
       "    .dataframe thead th {\n",
       "        text-align: right;\n",
       "    }\n",
       "</style>\n",
       "<table border=\"1\" class=\"dataframe\">\n",
       "  <thead>\n",
       "    <tr style=\"text-align: right;\">\n",
       "      <th></th>\n",
       "      <th>age</th>\n",
       "      <th>disease_symptoms</th>\n",
       "      <th>female</th>\n",
       "      <th>male</th>\n",
       "      <th>health_status_ENC</th>\n",
       "    </tr>\n",
       "  </thead>\n",
       "  <tbody>\n",
       "    <tr>\n",
       "      <th>0</th>\n",
       "      <td>70.00</td>\n",
       "      <td>0</td>\n",
       "      <td>0.0</td>\n",
       "      <td>1.0</td>\n",
       "      <td>0.0</td>\n",
       "    </tr>\n",
       "    <tr>\n",
       "      <th>1</th>\n",
       "      <td>60.00</td>\n",
       "      <td>7</td>\n",
       "      <td>1.0</td>\n",
       "      <td>0.0</td>\n",
       "      <td>2.0</td>\n",
       "    </tr>\n",
       "    <tr>\n",
       "      <th>2</th>\n",
       "      <td>35.00</td>\n",
       "      <td>5</td>\n",
       "      <td>0.0</td>\n",
       "      <td>1.0</td>\n",
       "      <td>2.0</td>\n",
       "    </tr>\n",
       "    <tr>\n",
       "      <th>3</th>\n",
       "      <td>62.75</td>\n",
       "      <td>8</td>\n",
       "      <td>0.0</td>\n",
       "      <td>1.0</td>\n",
       "      <td>0.0</td>\n",
       "    </tr>\n",
       "    <tr>\n",
       "      <th>4</th>\n",
       "      <td>86.00</td>\n",
       "      <td>9</td>\n",
       "      <td>1.0</td>\n",
       "      <td>0.0</td>\n",
       "      <td>1.0</td>\n",
       "    </tr>\n",
       "  </tbody>\n",
       "</table>\n",
       "</div>"
      ],
      "text/plain": [
       "     age  disease_symptoms  female  male  health_status_ENC\n",
       "0  70.00                 0     0.0   1.0                0.0\n",
       "1  60.00                 7     1.0   0.0                2.0\n",
       "2  35.00                 5     0.0   1.0                2.0\n",
       "3  62.75                 8     0.0   1.0                0.0\n",
       "4  86.00                 9     1.0   0.0                1.0"
      ]
     },
     "execution_count": 52,
     "metadata": {},
     "output_type": "execute_result"
    }
   ],
   "source": [
    "X = X.drop(columns='health_status')\n",
    "X"
   ]
  },
  {
   "cell_type": "markdown",
   "id": "f7ca0907",
   "metadata": {},
   "source": [
    "<div class=\"alert alert-info\"><b>Exercise 1.6</b> \n",
    "\n",
    "Write the code to normalize the dataset ```X``` using the StandarScaler from the sklearn library.\n",
    "</div>"
   ]
  },
  {
   "cell_type": "code",
   "execution_count": 53,
   "id": "ef860d92",
   "metadata": {},
   "outputs": [
    {
     "data": {
      "text/html": [
       "<div>\n",
       "<style scoped>\n",
       "    .dataframe tbody tr th:only-of-type {\n",
       "        vertical-align: middle;\n",
       "    }\n",
       "\n",
       "    .dataframe tbody tr th {\n",
       "        vertical-align: top;\n",
       "    }\n",
       "\n",
       "    .dataframe thead th {\n",
       "        text-align: right;\n",
       "    }\n",
       "</style>\n",
       "<table border=\"1\" class=\"dataframe\">\n",
       "  <thead>\n",
       "    <tr style=\"text-align: right;\">\n",
       "      <th></th>\n",
       "      <th>age</th>\n",
       "      <th>disease_symptoms</th>\n",
       "      <th>female</th>\n",
       "      <th>male</th>\n",
       "      <th>health_status_ENC</th>\n",
       "    </tr>\n",
       "  </thead>\n",
       "  <tbody>\n",
       "    <tr>\n",
       "      <th>0</th>\n",
       "      <td>0.437869</td>\n",
       "      <td>-1.819622</td>\n",
       "      <td>-0.816497</td>\n",
       "      <td>0.816497</td>\n",
       "      <td>-1.118034</td>\n",
       "    </tr>\n",
       "    <tr>\n",
       "      <th>1</th>\n",
       "      <td>-0.166088</td>\n",
       "      <td>0.376473</td>\n",
       "      <td>1.224745</td>\n",
       "      <td>-1.224745</td>\n",
       "      <td>1.118034</td>\n",
       "    </tr>\n",
       "    <tr>\n",
       "      <th>2</th>\n",
       "      <td>-1.675980</td>\n",
       "      <td>-0.250982</td>\n",
       "      <td>-0.816497</td>\n",
       "      <td>0.816497</td>\n",
       "      <td>1.118034</td>\n",
       "    </tr>\n",
       "    <tr>\n",
       "      <th>3</th>\n",
       "      <td>0.000000</td>\n",
       "      <td>0.690201</td>\n",
       "      <td>-0.816497</td>\n",
       "      <td>0.816497</td>\n",
       "      <td>-1.118034</td>\n",
       "    </tr>\n",
       "    <tr>\n",
       "      <th>4</th>\n",
       "      <td>1.404200</td>\n",
       "      <td>1.003929</td>\n",
       "      <td>1.224745</td>\n",
       "      <td>-1.224745</td>\n",
       "      <td>0.000000</td>\n",
       "    </tr>\n",
       "  </tbody>\n",
       "</table>\n",
       "</div>"
      ],
      "text/plain": [
       "        age  disease_symptoms    female      male  health_status_ENC\n",
       "0  0.437869         -1.819622 -0.816497  0.816497          -1.118034\n",
       "1 -0.166088          0.376473  1.224745 -1.224745           1.118034\n",
       "2 -1.675980         -0.250982 -0.816497  0.816497           1.118034\n",
       "3  0.000000          0.690201 -0.816497  0.816497          -1.118034\n",
       "4  1.404200          1.003929  1.224745 -1.224745           0.000000"
      ]
     },
     "execution_count": 53,
     "metadata": {},
     "output_type": "execute_result"
    }
   ],
   "source": [
    "# YOUR CODE HERE\n",
    "from sklearn.preprocessing import StandardScaler\n",
    "scaler = StandardScaler()\n",
    "X_scaled = scaler.fit_transform(X)\n",
    "X_scaled"
   ]
  },
  {
   "cell_type": "markdown",
   "id": "convinced-brass",
   "metadata": {},
   "source": [
    "## Exercise 2\n",
    "\n",
    "In the following link, you can download a dataset that contains sociodemographic about different family structures.\n",
    "\n",
    "https://raw.githubusercontent.com/jnin/information-systems/main/data/social_class.csv\n",
    "\n",
    "The data are presented in a CSV format. You will need to load it using the ```read_csv``` Pandas function. \n",
    "\n",
    "The dataset contains the following attributes:\n",
    "\n",
    "* gender\n",
    "* num_children\n",
    "* income\n",
    "* social_class"
   ]
  },
  {
   "cell_type": "markdown",
   "id": "fixed-canyon",
   "metadata": {},
   "source": [
    "<div class=\"alert alert-info\"><b>Exercise 2.1</b> \n",
    "\n",
    "Create a dataframe called ```df``` that contains the provided data.</div>"
   ]
  },
  {
   "cell_type": "code",
   "execution_count": null,
   "id": "processed-prescription",
   "metadata": {},
   "outputs": [],
   "source": [
    "# YOUR CODE HERE"
   ]
  },
  {
   "cell_type": "markdown",
   "id": "080df549",
   "metadata": {},
   "source": [
    "<div class=\"alert alert-info\"><b>Exercise 2.2</b> \n",
    "\n",
    "Plot the histogram of the income column. If you observe the distribution, you will realize that there are some outliers. Specifically, some individuals earning a very high salary. Remove them using the ```.quantile()``` Pandas function.\n",
    "</div>\n",
    "<div class=\"alert alert-warning\">\n",
    "    \n",
    "Hint: You can use the function ```hist()``` to plot the histogram for column ```income```.\n",
    "</div>"
   ]
  },
  {
   "cell_type": "code",
   "execution_count": null,
   "id": "06b5bced",
   "metadata": {},
   "outputs": [],
   "source": [
    "# YOUR CODE HERE"
   ]
  },
  {
   "cell_type": "markdown",
   "id": "fda62d3c",
   "metadata": {},
   "source": [
    "Now, drop the values from ```df```"
   ]
  },
  {
   "cell_type": "code",
   "execution_count": null,
   "id": "29dd4bba",
   "metadata": {},
   "outputs": [],
   "source": [
    "# YOUR CODE HERE"
   ]
  },
  {
   "cell_type": "markdown",
   "id": "c3a21b46",
   "metadata": {},
   "source": [
    "Finally, plot again the histogram and observe the differences"
   ]
  },
  {
   "cell_type": "code",
   "execution_count": null,
   "id": "5fd7d12e",
   "metadata": {},
   "outputs": [],
   "source": [
    "# YOUR CODE HERE"
   ]
  },
  {
   "cell_type": "markdown",
   "id": "finite-acting",
   "metadata": {},
   "source": [
    "<div class=\"alert alert-info\"><b>Exercise 2.3</b> \n",
    "\n",
    "Extract the features matrix and target array from the original DataFrame and store them in two new variables ```X``` and ```y```. Use column ```income``` as the depedent variable.\n",
    "</div>"
   ]
  },
  {
   "cell_type": "code",
   "execution_count": null,
   "id": "compatible-princeton",
   "metadata": {},
   "outputs": [],
   "source": [
    "# YOUR CODE HERE"
   ]
  },
  {
   "cell_type": "markdown",
   "id": "existing-conviction",
   "metadata": {},
   "source": [
    "<div class=\"alert alert-info\"><b>Exercise 2.4</b> \n",
    "\n",
    "Use the sklearn library to create a one-hot encoder for the ```gender``` attribute. Store the resulting information in two new columns called ```male``` and ```female``` and remove the original attribute from the dataframe.\n",
    "</div>"
   ]
  },
  {
   "cell_type": "code",
   "execution_count": null,
   "id": "rotary-prize",
   "metadata": {},
   "outputs": [],
   "source": [
    "# YOUR CODE HERE"
   ]
  },
  {
   "cell_type": "markdown",
   "id": "9a6f3ec3",
   "metadata": {},
   "source": [
    "Now, you encoded the ```gender``` attribute, you get three different columns containing the encoded values. Add them in the dataframe ```X``` with the appropriate names.\n",
    "\n",
    "<div class=\"alert alert-warning\">\n",
    "Hint 1:  Encoded columns are in lexicographical order.\n",
    "</div>\n",
    "<div class=\"alert alert-warning\">\n",
    "    \n",
    "Hint 2:  Remember to drop the non-encoded attribute from ```X```.\n",
    "</div>"
   ]
  },
  {
   "cell_type": "code",
   "execution_count": null,
   "id": "grand-neighbor",
   "metadata": {},
   "outputs": [],
   "source": [
    "# YOUR CODE HERE"
   ]
  },
  {
   "cell_type": "markdown",
   "id": "growing-split",
   "metadata": {},
   "source": [
    "<div class=\"alert alert-info\"><b>Exercise 2.5</b> \n",
    "\n",
    "Use the sklearn library to create an integer encoder for the ```social_class``` attribute.\n",
    "</div>\n",
    "<div class=\"alert alert-warning\">\n",
    "    \n",
    "Hint: You can use the function ```value_counts()``` to retrieve the labels from the column ```social_class```.\n",
    "</div>"
   ]
  },
  {
   "cell_type": "code",
   "execution_count": null,
   "id": "casual-station",
   "metadata": {},
   "outputs": [],
   "source": [
    "# YOUR CODE HERE"
   ]
  },
  {
   "cell_type": "markdown",
   "id": "a51f924e",
   "metadata": {},
   "source": [
    "Now, create a list with the ordered categories and create a new attibute called ```social_class_ENC``` inside the ```X``` dataframe"
   ]
  },
  {
   "cell_type": "code",
   "execution_count": null,
   "id": "falling-integrity",
   "metadata": {},
   "outputs": [],
   "source": [
    "# YOUR CODE HERE"
   ]
  },
  {
   "cell_type": "markdown",
   "id": "16051d67",
   "metadata": {},
   "source": [
    "Finally, drop the non-encoded ```social_class``` attribute from ```X```."
   ]
  },
  {
   "cell_type": "code",
   "execution_count": null,
   "id": "concrete-childhood",
   "metadata": {},
   "outputs": [],
   "source": [
    "# YOUR CODE HERE"
   ]
  },
  {
   "cell_type": "markdown",
   "id": "66cae692",
   "metadata": {},
   "source": [
    "<div class=\"alert alert-info\"><b>Exercise 2.6</b> \n",
    "\n",
    "Write the code to normalize the dataset ```X``` using the MinMaxScaler from the sklearn library.\n",
    "</div>"
   ]
  },
  {
   "cell_type": "code",
   "execution_count": null,
   "id": "57ce1e90",
   "metadata": {},
   "outputs": [],
   "source": [
    "# YOUR CODE HERE"
   ]
  },
  {
   "cell_type": "markdown",
   "id": "convertible-somewhere",
   "metadata": {},
   "source": [
    "## Exercise 3\n",
    "\n",
    "There is a lot of controversy about the relationship between income and ideology. Let's explore a little bit this relationship. However, before we need to pre-process a little bit the data. We have the following attributes:\n",
    "\n",
    "* Gender\n",
    "* Political_ideology\n",
    "* Income\n",
    "* Job_satisfaction\n",
    "\n",
    "In the following link you can download a dataset that contains job information about different individuals.\n",
    "\n",
    "https://raw.githubusercontent.com/jnin/information-systems/main/data/ideology_income.csv\n",
    "\n",
    "The data are presented in a CSV format. You will need to load it using the ```read_csv``` Pandas function. \n",
    "\n",
    "\n",
    "<div class=\"alert alert-info\"><b>Exercise 3.1</b> \n",
    "\n",
    "Create a dataframe called ```data``` that stores the provided data.\n",
    "</div>"
   ]
  },
  {
   "cell_type": "code",
   "execution_count": null,
   "id": "regulation-patient",
   "metadata": {},
   "outputs": [],
   "source": [
    "# YOUR CODE HERE"
   ]
  },
  {
   "cell_type": "markdown",
   "id": "c66bf18e",
   "metadata": {},
   "source": [
    "<div class=\"alert alert-info\"><b>Exercise 3.2</b> \n",
    "\n",
    "Display the histogram of the ```income``` column, and decide whether or not you need to remove outliers.\n",
    "</div>"
   ]
  },
  {
   "cell_type": "code",
   "execution_count": null,
   "id": "4448043c",
   "metadata": {},
   "outputs": [],
   "source": [
    "# YOUR CODE HERE"
   ]
  },
  {
   "cell_type": "markdown",
   "id": "behind-pacific",
   "metadata": {},
   "source": [
    "<div class=\"alert alert-info\"><b>Exercise 3.3</b> \n",
    "\n",
    "Extract the features matrix and target array from the original DataFrame and store them in two new variables ```X``` and ```y```. Use column ```job_satisfaction``` as depedent variable.\n",
    "</div>"
   ]
  },
  {
   "cell_type": "code",
   "execution_count": null,
   "id": "expressed-cache",
   "metadata": {},
   "outputs": [],
   "source": [
    "# YOUR CODE HERE"
   ]
  },
  {
   "cell_type": "markdown",
   "id": "arranged-attempt",
   "metadata": {},
   "source": [
    "<div class=\"alert alert-info\"><b>Exercise 3.4</b> \n",
    "\n",
    "Use the sklearn library to create an integer encoder for the ```political_ideology``` attribute.\n",
    "</div>\n",
    "<div class=\"alert alert-warning\">\n",
    "    \n",
    "Hint: You can use the function ```value_counts()``` to retrieve the labels from the column ```social_class```.\n",
    "</div>"
   ]
  },
  {
   "cell_type": "code",
   "execution_count": null,
   "id": "floral-canon",
   "metadata": {},
   "outputs": [],
   "source": [
    "# YOUR CODE HERE"
   ]
  },
  {
   "cell_type": "markdown",
   "id": "256cb55c",
   "metadata": {},
   "source": [
    "Now, create a list with the ordered categories and create a new attibute called ```political_ideology_ENC``` inside the ```X``` dataframe."
   ]
  },
  {
   "cell_type": "code",
   "execution_count": null,
   "id": "elect-looking",
   "metadata": {},
   "outputs": [],
   "source": [
    "# YOUR CODE HERE"
   ]
  },
  {
   "cell_type": "markdown",
   "id": "fc1dea4c",
   "metadata": {},
   "source": [
    "Finally, drop the non-encoded ```political_ideology``` attribute from ```X```."
   ]
  },
  {
   "cell_type": "code",
   "execution_count": null,
   "id": "a241e18a",
   "metadata": {},
   "outputs": [],
   "source": [
    "# YOUR CODE HERE"
   ]
  },
  {
   "cell_type": "markdown",
   "id": "cec287a9",
   "metadata": {},
   "source": [
    "<div class=\"alert alert-info\"><b>Exercise 3.5</b> \n",
    "\n",
    "Use the sklearn library to create a one-hot encoder for the ```gender``` attribute. Observe the encoder output, and store the information in two new columns called ```female``` and ```male```.\n",
    "</div>"
   ]
  },
  {
   "cell_type": "code",
   "execution_count": null,
   "id": "a0c55d22",
   "metadata": {},
   "outputs": [],
   "source": [
    "# YOUR CODE HERE"
   ]
  },
  {
   "cell_type": "markdown",
   "id": "e992ffc6",
   "metadata": {},
   "source": [
    "Now, you encoded the ```gender``` attribute, you get three different columns containing the encoded values. Add them in the dataframe ```X``` with the appropriate names.\n",
    "\n",
    "<div class=\"alert alert-warning\">\n",
    "Hint 1:  Encoded columns are in lexicographical order.\n",
    "</div>\n",
    "<div class=\"alert alert-warning\">\n",
    "    \n",
    "Hint 2:  Remember to drop the non-encoded attribute from ```X```.\n",
    "</div>"
   ]
  },
  {
   "cell_type": "code",
   "execution_count": null,
   "id": "5f4eb8df",
   "metadata": {},
   "outputs": [],
   "source": [
    "# YOUR CODE HERE"
   ]
  },
  {
   "cell_type": "markdown",
   "id": "32a93d10",
   "metadata": {},
   "source": [
    "<div class=\"alert alert-info\"><b>Exercise 3.6</b> \n",
    "\n",
    "Write the code to normalize the dataset ```X``` using the StandarScaler from the sklearn library.\n",
    "</div>"
   ]
  },
  {
   "cell_type": "code",
   "execution_count": null,
   "id": "834c4455",
   "metadata": {},
   "outputs": [],
   "source": [
    "# YOUR CODE HERE"
   ]
  },
  {
   "cell_type": "markdown",
   "id": "independent-lodge",
   "metadata": {},
   "source": [
    "## Exercise 4\n",
    "\n",
    "Milk consumption is important variable to avoid aging problems. Let's analyze a little bit if there are different habits in the population. We have the following attributes:\n",
    "\n",
    "* gender\n",
    "* height\n",
    "* weight\n",
    "* milk\n",
    "\n",
    "In the following link you can download a dataset that contains milk consumption data about different individuals.\n",
    "\n",
    "https://raw.githubusercontent.com/jnin/information-systems/main/data/milk_consumption.csv\n",
    "\n",
    "The data are presented in a CSV format. You will need to load it using the ```read_csv``` Pandas function. \n",
    "\n",
    "<div class=\"alert alert-info\"><b>Exercise 4.1</b> \n",
    "\n",
    "Create a dataframe called ```data``` that stores the provided data.\n",
    "</div>"
   ]
  },
  {
   "cell_type": "code",
   "execution_count": null,
   "id": "conscious-approval",
   "metadata": {},
   "outputs": [],
   "source": [
    "# YOUR CODE HERE"
   ]
  },
  {
   "cell_type": "markdown",
   "id": "quarterly-judgment",
   "metadata": {},
   "source": [
    "<div class=\"alert alert-info\"><b>Exercise 4.2</b> \n",
    "\n",
    "Extract the features matrix and target array from the original DataFrame and store them in two new variables ```X``` and ```y```. Use column ```milk``` as depedent variable.\n",
    "</div>"
   ]
  },
  {
   "cell_type": "code",
   "execution_count": null,
   "id": "champion-forest",
   "metadata": {},
   "outputs": [],
   "source": [
    "# YOUR CODE HERE"
   ]
  },
  {
   "cell_type": "markdown",
   "id": "pretty-straight",
   "metadata": {},
   "source": [
    "<div class=\"alert alert-info\"><b>Exercise 4.3</b> \n",
    "    \n",
    "Use the sklearn library to create a one-hot encoder for the ```gender``` attribute. Observe the encoder output, and store the information in two new columns called ```female``` and ```male```.\n",
    "</div>"
   ]
  },
  {
   "cell_type": "code",
   "execution_count": null,
   "id": "labeled-liberia",
   "metadata": {},
   "outputs": [],
   "source": [
    "# YOUR CODE HERE"
   ]
  },
  {
   "cell_type": "markdown",
   "id": "f3cb7398",
   "metadata": {},
   "source": [
    "Now, you encoded the ```gender``` attribute, you get three different columns containing the encoded values. Add them in the dataframe ```X``` with the appropriate names.\n",
    "\n",
    "<div class=\"alert alert-warning\">\n",
    "Hint 1:  Encoded columns are in lexicographical order.\n",
    "</div>\n",
    "<div class=\"alert alert-warning\">\n",
    "    \n",
    "Hint 2:  Remember to drop the non-encoded attribute from ```X```.\n",
    "</div>"
   ]
  },
  {
   "cell_type": "code",
   "execution_count": null,
   "id": "trying-freeware",
   "metadata": {},
   "outputs": [],
   "source": [
    "# YOUR CODE HERE"
   ]
  },
  {
   "cell_type": "markdown",
   "id": "fantastic-trademark",
   "metadata": {},
   "source": [
    "<div class=\"alert alert-info\"><b>Exercise 4.4</b> \n",
    "\n",
    "Write the code to normalize the dataset ```X``` using the StandarScaler from the sklearn library.\n",
    "</div>"
   ]
  },
  {
   "cell_type": "code",
   "execution_count": null,
   "id": "featured-horror",
   "metadata": {},
   "outputs": [],
   "source": [
    "# YOUR CODE HERE"
   ]
  }
 ],
 "metadata": {
  "kernelspec": {
   "display_name": "base",
   "language": "python",
   "name": "python3"
  },
  "language_info": {
   "codemirror_mode": {
    "name": "ipython",
    "version": 3
   },
   "file_extension": ".py",
   "mimetype": "text/x-python",
   "name": "python",
   "nbconvert_exporter": "python",
   "pygments_lexer": "ipython3",
   "version": "3.12.4"
  }
 },
 "nbformat": 4,
 "nbformat_minor": 5
}
