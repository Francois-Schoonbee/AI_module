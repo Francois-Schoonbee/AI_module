{
 "cells": [
  {
   "cell_type": "markdown",
   "id": "ada8f9e8",
   "metadata": {},
   "source": [
    "# Basic pandas\n",
    "\n",
    "Pandas is a Python library. It is already installed in Anaconda, so that we do not need to install it again.\n",
    "However, in order to use it, we must import it first."
   ]
  },
  {
   "cell_type": "code",
   "execution_count": 2,
   "id": "d782f941",
   "metadata": {},
   "outputs": [],
   "source": [
    "import pandas as pd"
   ]
  },
  {
   "cell_type": "markdown",
   "id": "d34c3e30",
   "metadata": {},
   "source": [
    "Once having run the code above, we will be able to access the content in the Pandas library using the statement pd."
   ]
  },
  {
   "cell_type": "markdown",
   "id": "42dc2a95",
   "metadata": {},
   "source": [
    "<div class=\"alert alert-info\"><b> Exercise 1 </b>\n",
    "\n",
    "Define a Series that stores the price of different ages ```[28, 34, 29, 42]```. Assign the content in this Series to a new variable called ```ages```.\n",
    "\n",
    "</div>"
   ]
  },
  {
   "cell_type": "code",
   "execution_count": 3,
   "id": "7212349b",
   "metadata": {},
   "outputs": [],
   "source": [
    "ages = [28, 34, 29, 42]"
   ]
  },
  {
   "cell_type": "markdown",
   "id": "ed013e4e",
   "metadata": {},
   "source": [
    "<div class=\"alert alert-info\"><b> Exercise 2 </b>\n",
    "\n",
    "As before, define a Series called age that contains the data ```[28, 34, 29, 42]```. This time set the index parameter to the value ```index = ['Tom', 'Jack', 'Bob', 'Ann']```\n",
    "\n",
    "</div>"
   ]
  },
  {
   "cell_type": "code",
   "execution_count": 4,
   "id": "02fafcad",
   "metadata": {},
   "outputs": [
    {
     "data": {
      "text/html": [
       "<div>\n",
       "<style scoped>\n",
       "    .dataframe tbody tr th:only-of-type {\n",
       "        vertical-align: middle;\n",
       "    }\n",
       "\n",
       "    .dataframe tbody tr th {\n",
       "        vertical-align: top;\n",
       "    }\n",
       "\n",
       "    .dataframe thead th {\n",
       "        text-align: right;\n",
       "    }\n",
       "</style>\n",
       "<table border=\"1\" class=\"dataframe\">\n",
       "  <thead>\n",
       "    <tr style=\"text-align: right;\">\n",
       "      <th></th>\n",
       "      <th>Age</th>\n",
       "    </tr>\n",
       "  </thead>\n",
       "  <tbody>\n",
       "    <tr>\n",
       "      <th>Tom</th>\n",
       "      <td>28</td>\n",
       "    </tr>\n",
       "    <tr>\n",
       "      <th>Jack</th>\n",
       "      <td>34</td>\n",
       "    </tr>\n",
       "    <tr>\n",
       "      <th>Bob</th>\n",
       "      <td>29</td>\n",
       "    </tr>\n",
       "    <tr>\n",
       "      <th>Ann</th>\n",
       "      <td>42</td>\n",
       "    </tr>\n",
       "  </tbody>\n",
       "</table>\n",
       "</div>"
      ],
      "text/plain": [
       "      Age\n",
       "Tom    28\n",
       "Jack   34\n",
       "Bob    29\n",
       "Ann    42"
      ]
     },
     "execution_count": 4,
     "metadata": {},
     "output_type": "execute_result"
    }
   ],
   "source": [
    "index = ['Tom', 'Jack', 'Bob', 'Ann']\n",
    "age = [28,34,29,42]\n",
    "\n",
    "df = pd.DataFrame(data=age, columns=['Age'],\n",
    "index = index)\n",
    "\n",
    "df"
   ]
  },
  {
   "cell_type": "markdown",
   "id": "5c431ae4",
   "metadata": {},
   "source": [
    "<div class=\"alert alert-info\"><b> Exercise 3 </b>\n",
    "\n",
    "Define a dictionary as ```data = {'Tom' : 28, 'Jack' : 34, 'Bob' : 29, 'Ann': 42}```. Then, Create a Series using the data dictionary. Print the Series. What values are assigned to the index?\n",
    "\n",
    "</div>"
   ]
  },
  {
   "cell_type": "code",
   "execution_count": 5,
   "id": "08e15c9a",
   "metadata": {},
   "outputs": [
    {
     "data": {
      "text/plain": [
       "Tom     28\n",
       "Jack    34\n",
       "Bob     29\n",
       "Ann     42\n",
       "dtype: int64"
      ]
     },
     "execution_count": 5,
     "metadata": {},
     "output_type": "execute_result"
    }
   ],
   "source": [
    "series = pd.Series({'Tom' : 28, 'Jack' : 34, 'Bob' : 29, 'Ann': 42})\n",
    "series"
   ]
  },
  {
   "cell_type": "markdown",
   "id": "b76fcf7e",
   "metadata": {},
   "source": [
    "<div class=\"alert alert-info\"><b> Exercise 4 </b>\n",
    "\n",
    "Define a DataFrame that contains the same data as the previous exercise, ```{'Tom' : 28, 'Jack' : 34, 'Bob' : 29, 'Ann': 42}```, but this time in a nested list form. If we don’t provide any names for the columns parameter, what values does Python assign to the columns?. Now define the same DataFrame but this time set the columns value to ```columns = ['Name', 'Age']```. Finally, change the default index to ```['rank1', 'rank2', 'rank3', 'rank4']```.\n",
    "\n",
    "</div>"
   ]
  },
  {
   "cell_type": "code",
   "execution_count": 6,
   "id": "c7d9e398",
   "metadata": {},
   "outputs": [
    {
     "data": {
      "text/html": [
       "<div>\n",
       "<style scoped>\n",
       "    .dataframe tbody tr th:only-of-type {\n",
       "        vertical-align: middle;\n",
       "    }\n",
       "\n",
       "    .dataframe tbody tr th {\n",
       "        vertical-align: top;\n",
       "    }\n",
       "\n",
       "    .dataframe thead th {\n",
       "        text-align: right;\n",
       "    }\n",
       "</style>\n",
       "<table border=\"1\" class=\"dataframe\">\n",
       "  <thead>\n",
       "    <tr style=\"text-align: right;\">\n",
       "      <th></th>\n",
       "      <th>Name</th>\n",
       "      <th>Age</th>\n",
       "    </tr>\n",
       "  </thead>\n",
       "  <tbody>\n",
       "    <tr>\n",
       "      <th>rank1</th>\n",
       "      <td>Tom</td>\n",
       "      <td>28</td>\n",
       "    </tr>\n",
       "    <tr>\n",
       "      <th>rank2</th>\n",
       "      <td>Jack</td>\n",
       "      <td>34</td>\n",
       "    </tr>\n",
       "    <tr>\n",
       "      <th>rank3</th>\n",
       "      <td>Bob</td>\n",
       "      <td>29</td>\n",
       "    </tr>\n",
       "    <tr>\n",
       "      <th>rank4</th>\n",
       "      <td>Ann</td>\n",
       "      <td>42</td>\n",
       "    </tr>\n",
       "  </tbody>\n",
       "</table>\n",
       "</div>"
      ],
      "text/plain": [
       "       Name  Age\n",
       "rank1   Tom   28\n",
       "rank2  Jack   34\n",
       "rank3   Bob   29\n",
       "rank4   Ann   42"
      ]
     },
     "execution_count": 6,
     "metadata": {},
     "output_type": "execute_result"
    }
   ],
   "source": [
    "df3 = pd.DataFrame(data = [['Tom', 28],['Jack',34], ['Bob',29], ['Ann', 42]])\n",
    "df3\n",
    "df4 = pd.DataFrame(data = [['Tom', 28],['Jack',34], ['Bob',29], ['Ann', 42]],columns = ['Name','Age'])\n",
    "df4\n",
    "df5 = pd.DataFrame(data = [['Tom', 28],['Jack',34], ['Bob',29], ['Ann', 42]],columns = ['Name','Age'],index = ['rank1', 'rank2', 'rank3', 'rank4'] )\n",
    "df5"
   ]
  },
  {
   "cell_type": "markdown",
   "id": "136c62cc",
   "metadata": {},
   "source": [
    "<div class=\"alert alert-info\"><b> Exercise 5 </b>\n",
    "\n",
    "Take the DataFrame defined above and add a new column named 'Vegetarian' with the values ```[False, True, True, True]```. Then, create a new column called ```Age (in days)``` that stores the age of each person in days, assuming a year has exactly 365 days.\n",
    "\n",
    "</div>"
   ]
  },
  {
   "cell_type": "code",
   "execution_count": 7,
   "id": "ca6f0438",
   "metadata": {},
   "outputs": [
    {
     "data": {
      "text/html": [
       "<div>\n",
       "<style scoped>\n",
       "    .dataframe tbody tr th:only-of-type {\n",
       "        vertical-align: middle;\n",
       "    }\n",
       "\n",
       "    .dataframe tbody tr th {\n",
       "        vertical-align: top;\n",
       "    }\n",
       "\n",
       "    .dataframe thead th {\n",
       "        text-align: right;\n",
       "    }\n",
       "</style>\n",
       "<table border=\"1\" class=\"dataframe\">\n",
       "  <thead>\n",
       "    <tr style=\"text-align: right;\">\n",
       "      <th></th>\n",
       "      <th>Name</th>\n",
       "      <th>Age</th>\n",
       "      <th>Vegetarian</th>\n",
       "      <th>Age (in days)</th>\n",
       "    </tr>\n",
       "  </thead>\n",
       "  <tbody>\n",
       "    <tr>\n",
       "      <th>rank1</th>\n",
       "      <td>Tom</td>\n",
       "      <td>28</td>\n",
       "      <td>False</td>\n",
       "      <td>10220</td>\n",
       "    </tr>\n",
       "    <tr>\n",
       "      <th>rank2</th>\n",
       "      <td>Jack</td>\n",
       "      <td>34</td>\n",
       "      <td>True</td>\n",
       "      <td>12410</td>\n",
       "    </tr>\n",
       "    <tr>\n",
       "      <th>rank3</th>\n",
       "      <td>Bob</td>\n",
       "      <td>29</td>\n",
       "      <td>True</td>\n",
       "      <td>10585</td>\n",
       "    </tr>\n",
       "    <tr>\n",
       "      <th>rank4</th>\n",
       "      <td>Ann</td>\n",
       "      <td>42</td>\n",
       "      <td>True</td>\n",
       "      <td>15330</td>\n",
       "    </tr>\n",
       "  </tbody>\n",
       "</table>\n",
       "</div>"
      ],
      "text/plain": [
       "       Name  Age  Vegetarian  Age (in days)\n",
       "rank1   Tom   28       False          10220\n",
       "rank2  Jack   34        True          12410\n",
       "rank3   Bob   29        True          10585\n",
       "rank4   Ann   42        True          15330"
      ]
     },
     "execution_count": 7,
     "metadata": {},
     "output_type": "execute_result"
    }
   ],
   "source": [
    "df5['Vegetarian'] = [False, True, True, True]\n",
    "df5['Age (in days)'] = df5['Age']*365\n",
    "df5"
   ]
  },
  {
   "cell_type": "markdown",
   "id": "d5a931e9",
   "metadata": {},
   "source": [
    "<div class=\"alert alert-info\"><b> Exercise 6 </b>\n",
    "\n",
    "Take the DataFrame defined above and select only the column ```'Name'```. Now select the first and third rows. Modify the DataFrame to remove the second row. Now remove the ```Vegetarian``` column.\n",
    "\n",
    "</div>"
   ]
  },
  {
   "cell_type": "code",
   "execution_count": 8,
   "id": "6d513bd6",
   "metadata": {},
   "outputs": [
    {
     "data": {
      "text/html": [
       "<div>\n",
       "<style scoped>\n",
       "    .dataframe tbody tr th:only-of-type {\n",
       "        vertical-align: middle;\n",
       "    }\n",
       "\n",
       "    .dataframe tbody tr th {\n",
       "        vertical-align: top;\n",
       "    }\n",
       "\n",
       "    .dataframe thead th {\n",
       "        text-align: right;\n",
       "    }\n",
       "</style>\n",
       "<table border=\"1\" class=\"dataframe\">\n",
       "  <thead>\n",
       "    <tr style=\"text-align: right;\">\n",
       "      <th></th>\n",
       "      <th>Name</th>\n",
       "      <th>Age</th>\n",
       "      <th>Age (in days)</th>\n",
       "    </tr>\n",
       "  </thead>\n",
       "  <tbody>\n",
       "    <tr>\n",
       "      <th>rank1</th>\n",
       "      <td>Tom</td>\n",
       "      <td>28</td>\n",
       "      <td>10220</td>\n",
       "    </tr>\n",
       "    <tr>\n",
       "      <th>rank3</th>\n",
       "      <td>Bob</td>\n",
       "      <td>29</td>\n",
       "      <td>10585</td>\n",
       "    </tr>\n",
       "    <tr>\n",
       "      <th>rank4</th>\n",
       "      <td>Ann</td>\n",
       "      <td>42</td>\n",
       "      <td>15330</td>\n",
       "    </tr>\n",
       "  </tbody>\n",
       "</table>\n",
       "</div>"
      ],
      "text/plain": [
       "      Name  Age  Age (in days)\n",
       "rank1  Tom   28          10220\n",
       "rank3  Bob   29          10585\n",
       "rank4  Ann   42          15330"
      ]
     },
     "execution_count": 8,
     "metadata": {},
     "output_type": "execute_result"
    }
   ],
   "source": [
    "df5[['Name']]\n",
    "df5.iloc[[1,3]]\n",
    "df5 = df5.drop('rank2')\n",
    "df5 = df5.drop(columns = 'Vegetarian')\n",
    "df5"
   ]
  },
  {
   "cell_type": "markdown",
   "id": "53ea53ae",
   "metadata": {},
   "source": [
    "<div class=\"alert alert-info\"><b> Exercise 7 </b>\n",
    "\n",
    "Define two lists, ```age = [24, 55, 17, 73, 54]``` and ```income = [23000, 60000, 18000, 55000, 38000]```. Define a DataFrame df such that ```data = {'age': age, 'income': income}``` and assign indexes such that ```index = ['John', 'Liza', 'Jane', 'Tom', 'Mark']```. Try to understand what the command ```df.describe()``` does.\n",
    "</div>"
   ]
  },
  {
   "cell_type": "code",
   "execution_count": 9,
   "id": "8172403e",
   "metadata": {},
   "outputs": [
    {
     "data": {
      "text/html": [
       "<div>\n",
       "<style scoped>\n",
       "    .dataframe tbody tr th:only-of-type {\n",
       "        vertical-align: middle;\n",
       "    }\n",
       "\n",
       "    .dataframe tbody tr th {\n",
       "        vertical-align: top;\n",
       "    }\n",
       "\n",
       "    .dataframe thead th {\n",
       "        text-align: right;\n",
       "    }\n",
       "</style>\n",
       "<table border=\"1\" class=\"dataframe\">\n",
       "  <thead>\n",
       "    <tr style=\"text-align: right;\">\n",
       "      <th></th>\n",
       "      <th>age</th>\n",
       "      <th>income</th>\n",
       "    </tr>\n",
       "  </thead>\n",
       "  <tbody>\n",
       "    <tr>\n",
       "      <th>count</th>\n",
       "      <td>5.000000</td>\n",
       "      <td>5.00000</td>\n",
       "    </tr>\n",
       "    <tr>\n",
       "      <th>mean</th>\n",
       "      <td>44.600000</td>\n",
       "      <td>38800.00000</td>\n",
       "    </tr>\n",
       "    <tr>\n",
       "      <th>std</th>\n",
       "      <td>23.394444</td>\n",
       "      <td>18673.51065</td>\n",
       "    </tr>\n",
       "    <tr>\n",
       "      <th>min</th>\n",
       "      <td>17.000000</td>\n",
       "      <td>18000.00000</td>\n",
       "    </tr>\n",
       "    <tr>\n",
       "      <th>25%</th>\n",
       "      <td>24.000000</td>\n",
       "      <td>23000.00000</td>\n",
       "    </tr>\n",
       "    <tr>\n",
       "      <th>50%</th>\n",
       "      <td>54.000000</td>\n",
       "      <td>38000.00000</td>\n",
       "    </tr>\n",
       "    <tr>\n",
       "      <th>75%</th>\n",
       "      <td>55.000000</td>\n",
       "      <td>55000.00000</td>\n",
       "    </tr>\n",
       "    <tr>\n",
       "      <th>max</th>\n",
       "      <td>73.000000</td>\n",
       "      <td>60000.00000</td>\n",
       "    </tr>\n",
       "  </tbody>\n",
       "</table>\n",
       "</div>"
      ],
      "text/plain": [
       "             age       income\n",
       "count   5.000000      5.00000\n",
       "mean   44.600000  38800.00000\n",
       "std    23.394444  18673.51065\n",
       "min    17.000000  18000.00000\n",
       "25%    24.000000  23000.00000\n",
       "50%    54.000000  38000.00000\n",
       "75%    55.000000  55000.00000\n",
       "max    73.000000  60000.00000"
      ]
     },
     "execution_count": 9,
     "metadata": {},
     "output_type": "execute_result"
    }
   ],
   "source": [
    "age = [24, 55, 17, 73, 54]\n",
    "income = [23000, 60000, 18000, 55000, 38000]\n",
    "df7 = pd.DataFrame(data = {'age': age, 'income': income},index = ['John', 'Liza', 'Jane', 'Tom', 'Mark'])\n",
    "df7.describe()"
   ]
  },
  {
   "cell_type": "markdown",
   "id": "3d50df9a",
   "metadata": {},
   "source": [
    "<div class=\"alert alert-info\"><b> Exercise 8 </b>\n",
    "\n",
    "Take the DataFrame defined above and find the minimum and maximum values for the ```'age'``` column. Also compute the mean for the ```'income'``` column.\n",
    "</div>"
   ]
  },
  {
   "cell_type": "code",
   "execution_count": 26,
   "id": "db3d6dcf",
   "metadata": {},
   "outputs": [
    {
     "name": "stdout",
     "output_type": "stream",
     "text": [
      "17\n",
      "73\n"
     ]
    },
    {
     "data": {
      "text/plain": [
       "income    38800.0\n",
       "dtype: float64"
      ]
     },
     "execution_count": 26,
     "metadata": {},
     "output_type": "execute_result"
    }
   ],
   "source": [
    "\n",
    "print(min(df7['age']))\n",
    "print(max(df7['age']))\n",
    "pd.DataFrame.mean(df7[['income']])"
   ]
  },
  {
   "cell_type": "markdown",
   "id": "6a5c9133",
   "metadata": {},
   "source": [
    "<div class=\"alert alert-info\"><b> Exercise 9 </b>\n",
    "\n",
    "Filter your DataFrame to select only those entries with an income higher that 25000. Now try filtering your DataFrame to select only those entries such that name is equal to Liza.\n",
    "\n",
    "</div>"
   ]
  },
  {
   "cell_type": "code",
   "execution_count": 43,
   "id": "fe3da9da",
   "metadata": {},
   "outputs": [
    {
     "name": "stdout",
     "output_type": "stream",
     "text": [
      "      age  income\n",
      "Liza   55   60000\n",
      "Tom    73   55000\n",
      "Mark   54   38000\n",
      "      age  income\n",
      "Liza   55   60000\n"
     ]
    }
   ],
   "source": [
    "print(df7.query('income>25000'))\n",
    "print(df7.filter(items=['Liza'], axis=0))"
   ]
  },
  {
   "cell_type": "markdown",
   "id": "103a348c",
   "metadata": {},
   "source": [
    "<div class=\"alert alert-info\"><b> Exercise 10 </b>\n",
    "\n",
    "Filter your DataFrame to select only those entries with an ```income``` higher that 25000 and an ```age``` below 60.\n",
    "\n",
    "</div>"
   ]
  },
  {
   "cell_type": "code",
   "execution_count": 44,
   "id": "69273d83",
   "metadata": {},
   "outputs": [
    {
     "data": {
      "text/html": [
       "<div>\n",
       "<style scoped>\n",
       "    .dataframe tbody tr th:only-of-type {\n",
       "        vertical-align: middle;\n",
       "    }\n",
       "\n",
       "    .dataframe tbody tr th {\n",
       "        vertical-align: top;\n",
       "    }\n",
       "\n",
       "    .dataframe thead th {\n",
       "        text-align: right;\n",
       "    }\n",
       "</style>\n",
       "<table border=\"1\" class=\"dataframe\">\n",
       "  <thead>\n",
       "    <tr style=\"text-align: right;\">\n",
       "      <th></th>\n",
       "      <th>age</th>\n",
       "      <th>income</th>\n",
       "    </tr>\n",
       "  </thead>\n",
       "  <tbody>\n",
       "    <tr>\n",
       "      <th>Liza</th>\n",
       "      <td>55</td>\n",
       "      <td>60000</td>\n",
       "    </tr>\n",
       "    <tr>\n",
       "      <th>Mark</th>\n",
       "      <td>54</td>\n",
       "      <td>38000</td>\n",
       "    </tr>\n",
       "  </tbody>\n",
       "</table>\n",
       "</div>"
      ],
      "text/plain": [
       "      age  income\n",
       "Liza   55   60000\n",
       "Mark   54   38000"
      ]
     },
     "execution_count": 44,
     "metadata": {},
     "output_type": "execute_result"
    }
   ],
   "source": [
    "df7.query('income>25000 & age<60')"
   ]
  },
  {
   "cell_type": "markdown",
   "id": "c1bb8f6f",
   "metadata": {},
   "source": [
    "<div class=\"alert alert-info\"><b> Exercise 11 </b>\n",
    "\n",
    "Add a new column ```'gender'``` that contains the gender of each individual in our DataFrame. Use the ```df.groupby()``` function to group all entries by the new ```'gender'``` column and and compute the aggregated maximum for the remaining columns. Now try to compute the average ```'income'``` by ```'gender'```.\n",
    "\n",
    "</div>"
   ]
  },
  {
   "cell_type": "code",
   "execution_count": 54,
   "id": "746d2afc",
   "metadata": {},
   "outputs": [
    {
     "data": {
      "text/html": [
       "<div>\n",
       "<style scoped>\n",
       "    .dataframe tbody tr th:only-of-type {\n",
       "        vertical-align: middle;\n",
       "    }\n",
       "\n",
       "    .dataframe tbody tr th {\n",
       "        vertical-align: top;\n",
       "    }\n",
       "\n",
       "    .dataframe thead th {\n",
       "        text-align: right;\n",
       "    }\n",
       "</style>\n",
       "<table border=\"1\" class=\"dataframe\">\n",
       "  <thead>\n",
       "    <tr style=\"text-align: right;\">\n",
       "      <th></th>\n",
       "      <th>income</th>\n",
       "      <th>age</th>\n",
       "    </tr>\n",
       "    <tr>\n",
       "      <th>gender</th>\n",
       "      <th></th>\n",
       "      <th></th>\n",
       "    </tr>\n",
       "  </thead>\n",
       "  <tbody>\n",
       "    <tr>\n",
       "      <th>Female</th>\n",
       "      <td>39000.000000</td>\n",
       "      <td>36.000000</td>\n",
       "    </tr>\n",
       "    <tr>\n",
       "      <th>Male</th>\n",
       "      <td>38666.666667</td>\n",
       "      <td>50.333333</td>\n",
       "    </tr>\n",
       "  </tbody>\n",
       "</table>\n",
       "</div>"
      ],
      "text/plain": [
       "              income        age\n",
       "gender                         \n",
       "Female  39000.000000  36.000000\n",
       "Male    38666.666667  50.333333"
      ]
     },
     "execution_count": 54,
     "metadata": {},
     "output_type": "execute_result"
    }
   ],
   "source": [
    "df7['gender']=['Male','Female','Female','Male','Male']\n",
    "df7.groupby('gender')[['income','age']].mean()"
   ]
  },
  {
   "cell_type": "code",
   "execution_count": null,
   "id": "5edc8432",
   "metadata": {},
   "outputs": [],
   "source": []
  }
 ],
 "metadata": {
  "kernelspec": {
   "display_name": "Python 3 (ipykernel)",
   "language": "python",
   "name": "python3"
  },
  "language_info": {
   "codemirror_mode": {
    "name": "ipython",
    "version": 3
   },
   "file_extension": ".py",
   "mimetype": "text/x-python",
   "name": "python",
   "nbconvert_exporter": "python",
   "pygments_lexer": "ipython3",
   "version": "3.12.4"
  }
 },
 "nbformat": 4,
 "nbformat_minor": 5
}
