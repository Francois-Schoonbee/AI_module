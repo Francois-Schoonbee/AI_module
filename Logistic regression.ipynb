{
 "cells": [
  {
   "cell_type": "markdown",
   "metadata": {},
   "source": [
    "# Logistic regression"
   ]
  },
  {
   "cell_type": "markdown",
   "metadata": {},
   "source": [
    "In what follows, we will train a logistic regression model using the same data as that used for the linear regression model. To do so, we have replaced the last column of our Advertising dataset with a new one that contains a discrete value stating the success or failure of a marketing campaign:\n",
    "\n",
    "-  1 if the campaign has been a success \n",
    "-  0 otherwise\n",
    "\n",
    "In this case, our task will be to predict if a marketing campaign will succeed or not ($y$) depending on its advertising budget ($X$)."
   ]
  },
  {
   "cell_type": "markdown",
   "metadata": {},
   "source": [
    "### Loading the data"
   ]
  },
  {
   "cell_type": "markdown",
   "metadata": {},
   "source": [
    "We begin by loading the new dataset and selecting the dependent ($y$) and the independent ($X$) variables. Run the cell below to read the data and store it into a Pandas DataFrame called ```data```.\n",
    "\n",
    "<div class=\"alert alert-block alert-warning\">\n",
    "You can see the difference between this dataset and the one used in the simple linear regression model by looking at the last column.\n",
    "</div>"
   ]
  },
  {
   "cell_type": "code",
   "execution_count": 4,
   "metadata": {},
   "outputs": [
    {
     "data": {
      "text/html": [
       "<div>\n",
       "<style scoped>\n",
       "    .dataframe tbody tr th:only-of-type {\n",
       "        vertical-align: middle;\n",
       "    }\n",
       "\n",
       "    .dataframe tbody tr th {\n",
       "        vertical-align: top;\n",
       "    }\n",
       "\n",
       "    .dataframe thead th {\n",
       "        text-align: right;\n",
       "    }\n",
       "</style>\n",
       "<table border=\"1\" class=\"dataframe\">\n",
       "  <thead>\n",
       "    <tr style=\"text-align: right;\">\n",
       "      <th></th>\n",
       "      <th>TV</th>\n",
       "      <th>radio</th>\n",
       "      <th>newspaper</th>\n",
       "      <th>success</th>\n",
       "    </tr>\n",
       "  </thead>\n",
       "  <tbody>\n",
       "    <tr>\n",
       "      <th>0</th>\n",
       "      <td>230.1</td>\n",
       "      <td>37.8</td>\n",
       "      <td>69.2</td>\n",
       "      <td>1</td>\n",
       "    </tr>\n",
       "    <tr>\n",
       "      <th>1</th>\n",
       "      <td>44.5</td>\n",
       "      <td>39.3</td>\n",
       "      <td>45.1</td>\n",
       "      <td>0</td>\n",
       "    </tr>\n",
       "    <tr>\n",
       "      <th>2</th>\n",
       "      <td>17.2</td>\n",
       "      <td>45.9</td>\n",
       "      <td>69.3</td>\n",
       "      <td>0</td>\n",
       "    </tr>\n",
       "    <tr>\n",
       "      <th>3</th>\n",
       "      <td>151.5</td>\n",
       "      <td>41.3</td>\n",
       "      <td>58.5</td>\n",
       "      <td>1</td>\n",
       "    </tr>\n",
       "    <tr>\n",
       "      <th>4</th>\n",
       "      <td>180.8</td>\n",
       "      <td>10.8</td>\n",
       "      <td>58.4</td>\n",
       "      <td>1</td>\n",
       "    </tr>\n",
       "    <tr>\n",
       "      <th>...</th>\n",
       "      <td>...</td>\n",
       "      <td>...</td>\n",
       "      <td>...</td>\n",
       "      <td>...</td>\n",
       "    </tr>\n",
       "    <tr>\n",
       "      <th>195</th>\n",
       "      <td>38.2</td>\n",
       "      <td>3.7</td>\n",
       "      <td>13.8</td>\n",
       "      <td>0</td>\n",
       "    </tr>\n",
       "    <tr>\n",
       "      <th>196</th>\n",
       "      <td>94.2</td>\n",
       "      <td>4.9</td>\n",
       "      <td>8.1</td>\n",
       "      <td>0</td>\n",
       "    </tr>\n",
       "    <tr>\n",
       "      <th>197</th>\n",
       "      <td>177.0</td>\n",
       "      <td>9.3</td>\n",
       "      <td>6.4</td>\n",
       "      <td>1</td>\n",
       "    </tr>\n",
       "    <tr>\n",
       "      <th>198</th>\n",
       "      <td>283.6</td>\n",
       "      <td>42.0</td>\n",
       "      <td>66.2</td>\n",
       "      <td>0</td>\n",
       "    </tr>\n",
       "    <tr>\n",
       "      <th>199</th>\n",
       "      <td>232.1</td>\n",
       "      <td>8.6</td>\n",
       "      <td>8.7</td>\n",
       "      <td>1</td>\n",
       "    </tr>\n",
       "  </tbody>\n",
       "</table>\n",
       "<p>200 rows × 4 columns</p>\n",
       "</div>"
      ],
      "text/plain": [
       "        TV  radio  newspaper  success\n",
       "0    230.1   37.8       69.2        1\n",
       "1     44.5   39.3       45.1        0\n",
       "2     17.2   45.9       69.3        0\n",
       "3    151.5   41.3       58.5        1\n",
       "4    180.8   10.8       58.4        1\n",
       "..     ...    ...        ...      ...\n",
       "195   38.2    3.7       13.8        0\n",
       "196   94.2    4.9        8.1        0\n",
       "197  177.0    9.3        6.4        1\n",
       "198  283.6   42.0       66.2        0\n",
       "199  232.1    8.6        8.7        1\n",
       "\n",
       "[200 rows x 4 columns]"
      ]
     },
     "execution_count": 4,
     "metadata": {},
     "output_type": "execute_result"
    }
   ],
   "source": [
    "import pandas as pd\n",
    "import numpy as np\n",
    "\n",
    "data = pd.read_csv('https://raw.githubusercontent.com/jnin/information-systems/main/data/AdvertisingLog.csv')\n",
    "data"
   ]
  },
  {
   "cell_type": "markdown",
   "metadata": {},
   "source": [
    "<div class=\"alert alert-info\"><b>Exercise 1 -- Define X and y </b>\n",
    "\n",
    "Now write the code define the dependent and independent variables ```X``` and ```y```. Remember that the $y$ corresponds to the last column of your dataset. You can choose $X$ to be equal to any of the other columns.\n",
    "\n",
    "</div>\n",
    "\n",
    "<div class=\"alert alert-warning\">\n",
    "\n",
    "We use capital `X` instead of regular `x` for the variable name because usually you have more than one explanatory variable. Therefore, you have a matrix of explanatory variables, not a vector.\n",
    "\n",
    "The results presented in this notebook are for the explanatory variable **TV**. \n",
    "\n",
    "</div>"
   ]
  },
  {
   "cell_type": "code",
   "execution_count": 9,
   "metadata": {},
   "outputs": [],
   "source": [
    "X = data['TV']\n",
    "y = data['success']"
   ]
  },
  {
   "cell_type": "markdown",
   "metadata": {},
   "source": [
    "### Defining the model"
   ]
  },
  {
   "cell_type": "markdown",
   "metadata": {},
   "source": [
    "Remember that a logistic regression model is defined as follows\n",
    "\n",
    "$$ \\hat{p} = P(\\hat{Y} = 1) = \\frac{1}{1+ e^{-(\\hat{\\beta_0} + \\hat{\\beta_1} X_1)}} $$\n",
    "\n",
    "To avoid to repeat the previous task of finding the optimal betas. $\\beta_0$ and $\\beta_1$ have been already calculated. Run the cell below to store their values."
   ]
  },
  {
   "cell_type": "code",
   "execution_count": 8,
   "metadata": {},
   "outputs": [],
   "source": [
    "b0 = -3.86734214\n",
    "b1 = 0.02196707"
   ]
  },
  {
   "cell_type": "markdown",
   "metadata": {},
   "source": [
    "### Odds Computation\n",
    "\n",
    "Let's use this values to compute the log odds. Log odds have a linear relationship with the independent variable $X_1$ defined by the equation\n",
    "\n",
    "$$\n",
    "log\\frac{\\hat{p}}{1 - \\hat{p}} = \\hat\\beta_0 + \\hat\\beta_1 X_1\n",
    "$$"
   ]
  },
  {
   "cell_type": "markdown",
   "metadata": {},
   "source": [
    "<div class=\"alert alert-info\"><b>Exercise 2 -- log_odds definition </b>\n",
    "\n",
    "Use the equation above to compute the log odds and save them to a new variable called ```log_odds```.\n",
    "\n",
    "</div>"
   ]
  },
  {
   "cell_type": "code",
   "execution_count": 11,
   "metadata": {},
   "outputs": [
    {
     "data": {
      "text/plain": [
       "0      1.187281\n",
       "1     -2.889808\n",
       "2     -3.489509\n",
       "3     -0.539331\n",
       "4      0.104304\n",
       "         ...   \n",
       "195   -3.028200\n",
       "196   -1.798044\n",
       "197    0.020829\n",
       "198    2.362519\n",
       "199    1.231215\n",
       "Name: TV, Length: 200, dtype: float64"
      ]
     },
     "execution_count": 11,
     "metadata": {},
     "output_type": "execute_result"
    }
   ],
   "source": [
    "log_odds = b0 + b1*X\n",
    "log_odds\n"
   ]
  },
  {
   "cell_type": "markdown",
   "metadata": {},
   "source": [
    "### Making predictions"
   ]
  },
  {
   "cell_type": "markdown",
   "metadata": {},
   "source": [
    "We want to compute the probability of success for a marketing campaign depending on the each invested budget $X_{i1}$. First, we have to define a function to compute $\\hat{p}$ given $X_1$, remember that\n",
    "$$ \\hat{p} = P(\\hat{Y} = 1) = \\frac{1}{1+ e^{-(\\hat{\\beta_0} + \\hat{\\beta_1} X)}} $$\n",
    "\n",
    "\n",
    "<div class=\"alert alert-info\"><b>Exercise 3 -- Define the regression model </b>\n",
    "\n",
    "So now we can re-use the previous odds computation to define a function to find $\\hat{p}$ given $X_1$. Remember, that the sign of the exponent for the negative probability $p$ changes.\n",
    "\n",
    "</div>\n",
    "\n",
    "<div class=\"alert alert-warning\">\n",
    "\n",
    "To enhance readability, we will encapsulate this operation in a function named ```regression_model```.\n",
    "\n",
    "</div>"
   ]
  },
  {
   "cell_type": "code",
   "execution_count": 33,
   "metadata": {},
   "outputs": [],
   "source": [
    "def regression_model(b0, b1, x):\n",
    "    p = (1/(1+np.exp(-b0-b1*x)))\n",
    "    return p"
   ]
  },
  {
   "cell_type": "markdown",
   "metadata": {},
   "source": [
    "Use the function above to compute the predicted probabilities for all the samples in your dataset. Store the resulting values in a variable called ```prob_pred```."
   ]
  },
  {
   "cell_type": "code",
   "execution_count": 38,
   "metadata": {},
   "outputs": [
    {
     "data": {
      "text/plain": [
       "0      0.766254\n",
       "1      0.052660\n",
       "2      0.029612\n",
       "3      0.368343\n",
       "4      0.526052\n",
       "         ...   \n",
       "195    0.046168\n",
       "196    0.142089\n",
       "197    0.505207\n",
       "198    0.913924\n",
       "199    0.774031\n",
       "Name: TV, Length: 200, dtype: float64"
      ]
     },
     "execution_count": 38,
     "metadata": {},
     "output_type": "execute_result"
    }
   ],
   "source": [
    "prob_pred = regression_model(b0, b1, X)\n",
    "prob_pred"
   ]
  },
  {
   "cell_type": "markdown",
   "metadata": {},
   "source": [
    "Remember that in order to obtain predictions using your logistic model, you need to fix a threshold to go from probabilities to classes:\n",
    "\n",
    "if $\\hat p >$ threshold then Y = 1 (Prediction=Success) \\\n",
    "if $\\hat p \\leq$ threshold then Y = 0 (Prediction=Fail) \n",
    "\n",
    "\n",
    "<div class=\"alert alert-info\"><b>Exercise 4 -- Prediction computation </b>\n",
    "\n",
    "Do so by defining a function to convert probabilities to classes. Call this function ```probabilities_to_classes```. This function should take as input an array ```probs``` containign the probability values and an float ```prob_threshold``` with the considered threshold; and return an array with the classes corresponding to the given probability values.\n",
    "\n",
    "</div>"
   ]
  },
  {
   "cell_type": "code",
   "execution_count": 41,
   "metadata": {},
   "outputs": [],
   "source": [
    "def probabilities_to_predictions(probs, prob_threshold):\n",
    "    result = []\n",
    "    for ind in range(len(probs)):\n",
    "        if probs[ind] > prob_threshold:\n",
    "            result.append(1)\n",
    "        else:\n",
    "            result.append(0)\n",
    "    return np.array(result)"
   ]
  },
  {
   "cell_type": "markdown",
   "metadata": {},
   "source": [
    "Finally use this function to obtain label predictions for all the sample susing a threshold equal to 0.5. Store the resulting values in a variable called ```y_pred```."
   ]
  },
  {
   "cell_type": "code",
   "execution_count": 42,
   "metadata": {},
   "outputs": [
    {
     "name": "stdout",
     "output_type": "stream",
     "text": [
      "0      0.766254\n",
      "1      0.052660\n",
      "2      0.029612\n",
      "3      0.368343\n",
      "4      0.526052\n",
      "         ...   \n",
      "195    0.046168\n",
      "196    0.142089\n",
      "197    0.505207\n",
      "198    0.913924\n",
      "199    0.774031\n",
      "Name: TV, Length: 200, dtype: float64\n",
      "[1 0 0 0 1 0 0 0 0 1 0 1 0 0 1 1 0 1 0 0 1 1 0 1 0 1 0 1 1 0 1 0 0 1 0 1 1\n",
      " 0 0 1 1 1 1 1 0 0 0 1 1 0 1 0 1 1 1 1 0 0 1 1 0 1 1 0 0 0 0 0 1 1 1 0 0 0\n",
      " 1 0 0 0 0 0 0 1 0 0 1 1 0 0 0 0 0 0 1 1 0 0 1 1 1 0 1 1 1 1 1 0 0 0 0 1 1\n",
      " 1 0 1 0 0 0 0 0 0 0 0 1 0 1 0 0 0 1 0 0 1 0 1 0 0 0 1 0 1 0 1 1 0 0 0 1 1\n",
      " 0 0 1 0 1 0 1 0 0 0 0 0 0 0 1 0 0 1 0 1 1 1 0 0 0 0 1 1 1 0 1 0 0 1 0 1 1\n",
      " 1 0 1 1 0 0 0 0 0 0 0 0 1 1 1]\n"
     ]
    }
   ],
   "source": [
    "threshold = 0.5\n",
    "y_pred = probabilities_to_predictions(prob_pred,threshold)\n",
    "\n",
    "print(prob_pred)\n",
    "print(y_pred)"
   ]
  },
  {
   "cell_type": "markdown",
   "metadata": {},
   "source": [
    "### Evaluating the model\n",
    "\n",
    "Of course, if we change the threshold we will achieve different values for the accuracy metric. However, this is out of the scope of this session, so we will only compute the accuracy for threshold = 0.5\n",
    "\n",
    "Remember that the accuracy metric is defined as \n",
    "\n",
    "$$ \\text{accuracy} = \\frac {\\text{cp}}{\\text{tp}} $$\n",
    "\n",
    "where **cp** and **tp** stand for correct predictions and the total number of predictions respectively.\n",
    "\n",
    "<div class=\"alert alert-info\"><b>Exercise 5 -- Accuracy computation </b>\n",
    "\n",
    "Write the code to compute the accuracy as above. Save the value to a new variable called ```accuracy```.\n",
    "\n",
    "</div>"
   ]
  },
  {
   "cell_type": "code",
   "execution_count": 47,
   "metadata": {
    "ExecuteTime": {
     "end_time": "2020-03-13T08:45:37.342624Z",
     "start_time": "2020-03-13T08:45:37.316070Z"
    }
   },
   "outputs": [
    {
     "data": {
      "text/plain": [
       "0.845"
      ]
     },
     "execution_count": 47,
     "metadata": {},
     "output_type": "execute_result"
    }
   ],
   "source": [
    "accuracy=sum(y==y_pred)/len(y_pred)\n",
    "accuracy"
   ]
  },
  {
   "cell_type": "markdown",
   "metadata": {},
   "source": [
    "### Plotting results\n",
    "<div class=\"alert alert-block alert-warning\">\n",
    "Plotting in python is not part of this subject. The next cell is just for illustration purposes.\n",
    "</div>"
   ]
  },
  {
   "cell_type": "code",
   "execution_count": 48,
   "metadata": {},
   "outputs": [
    {
     "data": {
      "text/plain": [
       "[<matplotlib.lines.Line2D at 0x183bd5d9010>]"
      ]
     },
     "execution_count": 48,
     "metadata": {},
     "output_type": "execute_result"
    },
    {
     "data": {
      "image/png": "[encoded data removed]",
      "text/plain": [
       "<Figure size 640x480 with 1 Axes>"
      ]
     },
     "metadata": {},
     "output_type": "display_data"
    }
   ],
   "source": [
    "import matplotlib.pyplot as plt\n",
    "X_plot = np.arange(-50, 350)\n",
    "y_plot = regression_model(b0, b1, X_plot)\n",
    "plt.plot(X_plot, y_plot)\n",
    "plt.plot(X, y, \"ro\")\n",
    "plt.plot(X, y_pred, \"bx\")"
   ]
  }
 ],
 "metadata": {
  "kernelspec": {
   "display_name": "Python 3",
   "language": "python",
   "name": "python3"
  },
  "language_info": {
   "codemirror_mode": {
    "name": "ipython",
    "version": 3
   },
   "file_extension": ".py",
   "mimetype": "text/x-python",
   "name": "python",
   "nbconvert_exporter": "python",
   "pygments_lexer": "ipython3",
   "version": "3.12.7"
  }
 },
 "nbformat": 4,
 "nbformat_minor": 4
}
